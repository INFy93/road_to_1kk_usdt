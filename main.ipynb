{
 "cells": [
  {
   "cell_type": "code",
   "execution_count": null,
   "metadata": {},
   "outputs": [],
   "source": [
    "import os\n",
    "from dotenv import load_dotenv\n",
    "\n",
    "load_dotenv()"
   ]
  },
  {
   "cell_type": "code",
   "execution_count": null,
   "metadata": {},
   "outputs": [],
   "source": [
    "from pybit.unified_trading import HTTP\n",
    "import pprint\n",
    "\n",
    "client = HTTP(\n",
    "    testnet=False,\n",
    "    api_key=os.getenv('API_KEY'),\n",
    "    api_secret=os.getenv('SECRET'),\n",
    ")"
   ]
  },
  {
   "cell_type": "code",
   "execution_count": null,
   "metadata": {},
   "outputs": [],
   "source": [
    "#get wallet balance\n",
    "balance_data = client.get_wallet_balance(accountType='UNIFIED', coin='USDT')\n",
    "balance = balance_data['result']['list'][0]['coin'][0]['walletBalance']\n",
    "pprint.pprint('Доступный баланс: ' + balance + ' USDT')"
   ]
  },
  {
   "cell_type": "code",
   "execution_count": null,
   "metadata": {
    "ExecuteTime": {
     "end_time": "2024-07-09T20:45:31.485887Z",
     "start_time": "2024-07-09T20:45:31.250772Z"
    }
   },
   "outputs": [],
   "source": [
    "mark_price = client.get_mark_price_kline(symbol='POPCATUSDT', interval=30, start=1720461174000, end=1720558546000)\n",
    "mark_price_better_view = mark_price['result']['list']\n",
    "\n",
    "min = mark_price_better_view[0]\n",
    "max = mark_price_better_view[0]\n",
    "\n",
    "for i in mark_price_better_view:\n",
    "    if i > max: max = i\n",
    "    if i < min: min = i\n",
    "\n",
    "pprint.pprint('Максимальная цена: ' + max[4]) \n",
    "pprint.pprint('Минимальная цена: ' + min[4]) "
   ]
  },
  {
   "cell_type": "code",
   "execution_count": null,
   "metadata": {},
   "outputs": [],
   "source": [
    "#limit opeations: calculate save balance to trade, take profit and stop loss:\n",
    "\n",
    "safe_balance = float(balance) * 0.05\n",
    "safe_balance = round(safe_balance, 4)\n",
    "\n",
    "take_profit = round(safe_balance * 0.2, 4)\n",
    "stop_loss = round (safe_balance * 0.1, 4)\n",
    "\n",
    "print ('Safe balance: ' + str(safe_balance) + '\\nTake Profit USDT: ' + str(take_profit) + '\\nStop Loss: ' + str(stop_loss))"
   ]
  }
 ],
 "metadata": {
  "kernelspec": {
   "display_name": "Python 3",
   "language": "python",
   "name": "python3"
  },
  "language_info": {
   "codemirror_mode": {
    "name": "ipython",
    "version": 3
   },
   "file_extension": ".py",
   "mimetype": "text/x-python",
   "name": "python",
   "nbconvert_exporter": "python",
   "pygments_lexer": "ipython3",
   "version": "3.12.4"
  }
 },
 "nbformat": 4,
 "nbformat_minor": 2
}
